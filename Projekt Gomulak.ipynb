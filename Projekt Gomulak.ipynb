{
 "cells": [
  {
   "cell_type": "code",
   "execution_count": 1,
   "metadata": {},
   "outputs": [],
   "source": [
    "import math\n",
    "import datetime\n",
    "import numpy as np\n",
    "import calendar\n",
    "import sympy\n",
    "import matplotlib.pyplot as plt\n",
    "import pandas as pd"
   ]
  },
  {
   "cell_type": "code",
   "execution_count": 2,
   "metadata": {},
   "outputs": [],
   "source": [
    "#Na dzień 1 XII\n",
    "datazakupu = '01122022'\n",
    "prowizja_wartość = 0.0019\n",
    "liczba_obligacji = 1\n",
    "cena_nominalna = 1000\n",
    "t0 = 0\n",
    "kurs0 = 1\n",
    "\n",
    "#Obligacja 1 - EIB0227\n",
    "# 1 wypłata w ciągu roku \n",
    "datawykupu1 = '15022027' \n",
    "datawykupu1=datetime.datetime.strptime(datawykupu1, '%d%m%Y').date()\n",
    "data_wypłaty_ostatniego_kuponu1 = '15022022'\n",
    "\n",
    "kurs1 = 99.84/100\n",
    "oprocentowanie1 = 1 / 100\n",
    "wartość_obligacji1 = oprocentowanie1 * cena_nominalna\n",
    "c1 = wartość_obligacji1\n",
    "\n",
    "#Obligacja 2 - EIB0228\n",
    "# 1 wypłata w ciągu roku\n",
    "datawykupu2 = '25022028'\n",
    "datawykupu2=datetime.datetime.strptime(datawykupu2, '%d%m%Y').date()\n",
    "data_wypłaty_ostatniego_kuponu2 = '25022022'\n",
    "\n",
    "kurs2 = 99.81/100\n",
    "oprocentowanie2 = 1 / 100\n",
    "wartość_obligacji2 = oprocentowanie2 * cena_nominalna\n",
    "c2 = wartość_obligacji2\n",
    "\n",
    "#Obligacja 3 - FPC0328\n",
    "# 1 wypłata w ciągu roku\n",
    "datawykupu3 = '12032028'\n",
    "datawykupu3=datetime.datetime.strptime(datawykupu3, '%d%m%Y').date()\n",
    "data_wypłaty_ostatniego_kuponu3 = '12032022'\n",
    "\n",
    "kurs3 = 75.9/100\n",
    "oprocentowanie3 = 1.75 / 100\n",
    "wartość_obligacji3 = oprocentowanie3 * cena_nominalna\n",
    "c3 = wartość_obligacji3\n",
    "\n",
    "#Obligacja 4 - WS0428\n",
    "# 1 wypłata w ciągu roku\n",
    "datawykupu4 = '25042028'\n",
    "datawykupu4=datetime.datetime.strptime(datawykupu4, '%d%m%Y').date()\n",
    "data_wypłaty_ostatniego_kuponu4 = '25042022'\n",
    "\n",
    "kurs4 = 80/100\n",
    "oprocentowanie4 = 2.75 / 100\n",
    "wartość_obligacji4 = oprocentowanie4 * cena_nominalna\n",
    "c4 = wartość_obligacji4\n",
    "\n",
    "#Obligacja 5 - PS0728\n",
    "# 1 wypłata w ciągu roku\n",
    "datawykupu5 = '25072028'\n",
    "datawykupu5=datetime.datetime.strptime(datawykupu5, '%d%m%Y').date()\n",
    "data_wypłaty_ostatniego_kuponu5 = '25072022'\n",
    "\n",
    "kurs5 = 95.37/100\n",
    "oprocentowanie5 = 7.5 / 100\n",
    "wartość_obligacji5 = oprocentowanie5 * cena_nominalna\n",
    "c5 = wartość_obligacji5\n",
    "\n",
    "\n",
    "\n",
    "datywykupu = [datawykupu1, datawykupu2, datawykupu3, datawykupu4, datawykupu5]\n",
    "kursy = [kurs1, kurs2, kurs3, kurs4, kurs5]\n",
    "oprocentowania = [oprocentowanie1, oprocentowanie2, oprocentowanie3, \n",
    "                  oprocentowanie4, oprocentowanie5]\n",
    "wartości_obligacji = [wartość_obligacji1, wartość_obligacji2, \n",
    "                      wartość_obligacji3, wartość_obligacji4, wartość_obligacji5]\n",
    "c = [c1, c2, c3, c4, c5]\n",
    "daty_wykupu_ostatnich_kuponów = [data_wypłaty_ostatniego_kuponu1, \n",
    "                                 data_wypłaty_ostatniego_kuponu2, data_wypłaty_ostatniego_kuponu3, \n",
    "                                 data_wypłaty_ostatniego_kuponu4, data_wypłaty_ostatniego_kuponu5]"
   ]
  },
  {
   "cell_type": "markdown",
   "metadata": {},
   "source": [
    "# Czas życia każdej obligacji"
   ]
  },
  {
   "cell_type": "code",
   "execution_count": 3,
   "metadata": {},
   "outputs": [],
   "source": [
    "datazakupu = datetime.datetime.strptime(datazakupu, '%d%m%Y').date()\n",
    "czas_życia1 = (datawykupu1 - datazakupu).days / 365\n",
    "czas_życia2 = (datawykupu2 - datazakupu).days / 365\n",
    "czas_życia3 = (datawykupu3 - datazakupu).days / 365\n",
    "czas_życia4 = (datawykupu4 - datazakupu).days / 365\n",
    "czas_życia5 = (datawykupu5 - datazakupu).days / 365\n",
    "\n",
    "czasy_życia = [czas_życia1, czas_życia2, czas_życia3, czas_życia4, czas_życia5]"
   ]
  },
  {
   "cell_type": "markdown",
   "metadata": {},
   "source": [
    "# Ile jeszcze kuponów"
   ]
  },
  {
   "cell_type": "code",
   "execution_count": 4,
   "metadata": {},
   "outputs": [],
   "source": [
    "ilość_kuponów1 = math.ceil(czas_życia1)\n",
    "ilość_kuponów2 = math.ceil(czas_życia2)\n",
    "ilość_kuponów3 = math.ceil(czas_życia3)\n",
    "ilość_kuponów4 = math.ceil(czas_życia4)\n",
    "ilość_kuponów5 = math.ceil(czas_życia5)\n",
    "\n",
    "ilości_kuponów = [ilość_kuponów1, ilość_kuponów2, ilość_kuponów3, \n",
    "                  ilość_kuponów4, ilość_kuponów5]"
   ]
  },
  {
   "cell_type": "markdown",
   "metadata": {},
   "source": [
    "# Liczenie P"
   ]
  },
  {
   "cell_type": "code",
   "execution_count": 5,
   "metadata": {},
   "outputs": [],
   "source": [
    "datazakupu = '01122022'\n",
    "def cena_czysta(kurs, cena_nominalna):\n",
    "    return kurs * cena_nominalna\n",
    "\n",
    "def odsetki(data_zakupu, data_wykupu, wartość_kuponu):\n",
    "    t1 = datetime.datetime.strptime(data_wykupu, '%d%m%Y').date()\n",
    "    t2 = datetime.datetime.strptime(data_zakupu, '%d%m%Y').date()\n",
    "    liczba_dni_od_ostatniego_kuponu = (t2 - t1).days\n",
    "    \n",
    "    dni_spot = 2\n",
    "    if t2.weekday() == 3 or t2.weekday() == 4:\n",
    "        dni_spot += 2\n",
    "    \n",
    "    liczba_dni_w_okresie_odsetkowym = 365 + int(calendar.isleap(t2.year))\n",
    "    \n",
    "    odsetki = ((liczba_dni_od_ostatniego_kuponu + dni_spot)/liczba_dni_w_okresie_odsetkowym) * wartość_kuponu\n",
    "    \n",
    "    return odsetki\n",
    "\n",
    "def cena_brudna(cena_czysta, odsetki):\n",
    "    return cena_czysta + odsetki\n",
    "\n",
    "def koszt_bez_prowizji(liczba_obligacji, cena_brudna):\n",
    "    return liczba_obligacji * cena_brudna\n",
    "\n",
    "def prowizja(prowizja, koszt_bez_prowizji):\n",
    "    return prowizja_wartość * koszt_bez_prowizji\n",
    "\n",
    "def koszt(koszt_bez_prowizji, prowizja):\n",
    "    koszt_zakupu = koszt_bez_prowizji + prowizja\n",
    "    return koszt_zakupu\n",
    "\n"
   ]
  },
  {
   "cell_type": "markdown",
   "metadata": {},
   "source": [
    "# Koszt czyli P dla każdej obligacji"
   ]
  },
  {
   "cell_type": "code",
   "execution_count": 6,
   "metadata": {},
   "outputs": [
    {
     "data": {
      "text/plain": [
       "[1008.3396093150686,\n",
       " 1007.7645461643835,\n",
       " 773.3158287671233,\n",
       " 818.4287780821918,\n",
       " 982.892721780822]"
      ]
     },
     "execution_count": 6,
     "metadata": {},
     "output_type": "execute_result"
    }
   ],
   "source": [
    "ceny_czyste = []\n",
    "odsetki_całość = []\n",
    "ceny_brudne = []\n",
    "koszty = []\n",
    "prowizje = []\n",
    "koszty_bez_prowizji = []\n",
    "for i in range (0,5):\n",
    "    ceny_czyste.append(cena_czysta(kursy[i], cena_nominalna))\n",
    "    odsetki_całość.append(odsetki(datazakupu, daty_wykupu_ostatnich_kuponów[i], \n",
    "                                  wartości_obligacji[i]))\n",
    "    ceny_brudne.append(cena_brudna(ceny_czyste[i], odsetki_całość[i]))\n",
    "    koszty_bez_prowizji.append(koszt_bez_prowizji(liczba_obligacji, \n",
    "                                                  ceny_brudne[i]))\n",
    "    prowizje.append(prowizja(prowizja_wartość, koszty_bez_prowizji[i]))\n",
    "    koszty.append(koszt(koszty_bez_prowizji[i], prowizje[i]))\n",
    "koszty    "
   ]
  },
  {
   "cell_type": "code",
   "execution_count": 7,
   "metadata": {},
   "outputs": [],
   "source": [
    "koszt1 = koszty[0]\n",
    "koszt2 = koszty[1]\n",
    "koszt3 = koszty[2]\n",
    "koszt4 = koszty[3]\n",
    "koszt5 = koszty[4]"
   ]
  },
  {
   "cell_type": "markdown",
   "metadata": {},
   "source": [
    "# r"
   ]
  },
  {
   "cell_type": "code",
   "execution_count": 8,
   "metadata": {},
   "outputs": [],
   "source": [
    "x = sympy.Symbol('x')\n",
    "\n",
    "def fx(P,wartosc_kuponu, czas_życia, ilosc_kuponow):\n",
    "    \n",
    "    tn = czas_życia \n",
    "    suma = 0\n",
    "    for i in range(ilosc_kuponow):\n",
    "        suma += wartosc_kuponu*pow(1+x,i)\n",
    "    suma = (suma-P*pow(1+x,tn)+cena_nominalna)\n",
    "    return suma\n",
    "\n",
    "def bis(fx,a,b,err):\n",
    "    while np.absolute(b-a)>err:\n",
    "        midPoint=(a+b)*0.5\n",
    "        if fx.subs(x, midPoint)*fx.subs(x,a)<0:\n",
    "            b=midPoint\n",
    "        midPoint=(a+b)*0.5\n",
    "        if fx.subs(x, midPoint)*fx.subs(x, b)<0:\n",
    "            a=midPoint\n",
    "    return b-(b-a)*fx.subs(x,b)/(fx.subs(x,b)-fx.subs(x,a))"
   ]
  },
  {
   "cell_type": "code",
   "execution_count": 9,
   "metadata": {},
   "outputs": [
    {
     "data": {
      "text/latex": [
       "$\\displaystyle 10.0 x + 10.0 \\left(x + 1\\right)^{4} + 10.0 \\left(x + 1\\right)^{3} + 10.0 \\left(x + 1\\right)^{2} - 1008.33960931507 \\left(x + 1\\right)^{4.21095890410959} + 1020.0$"
      ],
      "text/plain": [
       "10.0*x + 10.0*(x + 1)**4 + 10.0*(x + 1)**3 + 10.0*(x + 1)**2 - 1008.33960931507*(x + 1)**4.21095890410959 + 1020.0"
      ]
     },
     "execution_count": 9,
     "metadata": {},
     "output_type": "execute_result"
    }
   ],
   "source": [
    "fx(koszt1, wartość_obligacji1, czas_życia1, ilość_kuponów1)"
   ]
  },
  {
   "cell_type": "code",
   "execution_count": 10,
   "metadata": {},
   "outputs": [],
   "source": [
    "r1 = float(bis(fx(koszt1, wartość_obligacji1, czas_życia1, ilość_kuponów1), 0, \n",
    "               1, 0.0001))\n",
    "r2 = float(bis(fx(koszt2, wartość_obligacji2, czas_życia2, ilość_kuponów2), 0, \n",
    "               1, 0.0001))\n",
    "r3 = float(bis(fx(koszt3, wartość_obligacji3, czas_życia3, ilość_kuponów3), 0, \n",
    "               1, 0.0001))\n",
    "r4 = float(bis(fx(koszt4, wartość_obligacji4, czas_życia4, ilość_kuponów4), 0, \n",
    "               1, 0.0001))\n",
    "r5 = float(bis(fx(koszt5, wartość_obligacji5, czas_życia5, ilość_kuponów5), 0, \n",
    "               1, 0.0001))\n",
    "r = [r1, r2, r3, r4, r5]"
   ]
  },
  {
   "cell_type": "code",
   "execution_count": 11,
   "metadata": {},
   "outputs": [
    {
     "data": {
      "text/plain": [
       "0.009888566316048147"
      ]
     },
     "execution_count": 11,
     "metadata": {},
     "output_type": "execute_result"
    }
   ],
   "source": [
    "r1"
   ]
  },
  {
   "cell_type": "markdown",
   "metadata": {},
   "source": [
    "# B"
   ]
  },
  {
   "cell_type": "code",
   "execution_count": 12,
   "metadata": {},
   "outputs": [],
   "source": [
    "def B(czas_życia, r):\n",
    "    return (1 + r)**(-czas_życia)"
   ]
  },
  {
   "cell_type": "code",
   "execution_count": 13,
   "metadata": {},
   "outputs": [],
   "source": [
    "struktury = []\n",
    "for i in range(0,5):\n",
    "    struktury.append(B(czasy_życia[i], r[i]))\n"
   ]
  },
  {
   "cell_type": "code",
   "execution_count": 14,
   "metadata": {},
   "outputs": [
    {
     "data": {
      "text/plain": [
       "[0.9594109160551727,\n",
       " 0.9493640591041496,\n",
       " 0.6865463591128349,\n",
       " 0.6830110595359907,\n",
       " 0.6313291508103844]"
      ]
     },
     "execution_count": 14,
     "metadata": {},
     "output_type": "execute_result"
    }
   ],
   "source": [
    "struktury"
   ]
  },
  {
   "cell_type": "code",
   "execution_count": 15,
   "metadata": {},
   "outputs": [],
   "source": [
    "struktury.insert(0,1)\n",
    "czasy_życia.insert(0,0)"
   ]
  },
  {
   "cell_type": "code",
   "execution_count": 16,
   "metadata": {},
   "outputs": [
    {
     "data": {
      "text/plain": [
       "[0,\n",
       " 4.210958904109589,\n",
       " 5.238356164383561,\n",
       " 5.282191780821917,\n",
       " 5.402739726027397,\n",
       " 5.652054794520548]"
      ]
     },
     "execution_count": 16,
     "metadata": {},
     "output_type": "execute_result"
    }
   ],
   "source": [
    "czasy_życia"
   ]
  },
  {
   "cell_type": "code",
   "execution_count": 17,
   "metadata": {},
   "outputs": [
    {
     "data": {
      "text/plain": [
       "(0.0, 1.0)"
      ]
     },
     "execution_count": 17,
     "metadata": {},
     "output_type": "execute_result"
    },
    {
     "data": {
      "image/png": "[encoded data removed]",
      "text/plain": [
       "<Figure size 432x288 with 1 Axes>"
      ]
     },
     "metadata": {
      "needs_background": "light"
     },
     "output_type": "display_data"
    }
   ],
   "source": [
    "plt.plot(czasy_życia, struktury)\n",
    "plt.ylim(0,1)"
   ]
  },
  {
   "cell_type": "markdown",
   "metadata": {},
   "source": [
    "# Przedłużenie 1"
   ]
  },
  {
   "cell_type": "code",
   "execution_count": 19,
   "metadata": {},
   "outputs": [],
   "source": [
    "t1 = np.arange(czasy_życia[0], czasy_życia[1],0.001)\n",
    "t2 = np.arange(czasy_życia[1], czasy_życia[2], 0.001)\n",
    "t3 = np.arange(czasy_życia[2], czasy_życia[3], 0.001)\n",
    "t4 = np.arange(czasy_życia[3], czasy_życia[4], 0.001)\n",
    "t5 = np.arange(czasy_życia[4], czasy_życia[5], 0.001)\n",
    "t = [t1, t2, t3, t4, t5]\n",
    "#1\n",
    "struk1=(struktury[0]**((czasy_życia[1] - t1)/(czasy_życia[1] - czasy_życia[0]))) * (struktury[1]**((t1 - czasy_życia[0])/(czasy_życia[1] - czasy_życia[0])))\n",
    "#2\n",
    "struk2=(struktury[1]**((czasy_życia[2] - t2)/(czasy_życia[2] - czasy_życia[1]))) * (struktury[2]**((t2 - czasy_życia[1])/(czasy_życia[2] - czasy_życia[1])))\n",
    "#3\n",
    "struk3=(struktury[2]**((czasy_życia[3] - t3)/(czasy_życia[3] - czasy_życia[2]))) * (struktury[3]**((t3 - czasy_życia[2])/(czasy_życia[3] - czasy_życia[2])))\n",
    "#4\n",
    "struk4=(struktury[3]**((czasy_życia[4] - t4)/(czasy_życia[4] - czasy_życia[3]))) * (struktury[4]**((t4 - czasy_życia[3])/(czasy_życia[4] - czasy_życia[3])))\n",
    "#5\n",
    "struk5=(struktury[4]**((czasy_życia[5] - t5)/(czasy_życia[5] - czasy_życia[4]))) * (struktury[5]**((t5 - czasy_życia[4])/(czasy_życia[5] - czasy_życia[4])))\n",
    "\n",
    "struks=[struk1, struk2, struk3, struk4, struk5]"
   ]
  },
  {
   "cell_type": "code",
   "execution_count": 20,
   "metadata": {},
   "outputs": [
    {
     "data": {
      "image/png": "[encoded data removed]",
      "text/plain": [
       "<Figure size 432x288 with 1 Axes>"
      ]
     },
     "metadata": {
      "needs_background": "light"
     },
     "output_type": "display_data"
    }
   ],
   "source": [
    "plt.plot(t1,struk1)\n",
    "plt.plot(t2,struk2)\n",
    "plt.plot(t3,struk3, color = 'red')\n",
    "plt.plot(t4,struk4, color = 'black')\n",
    "plt.plot(t5,struk5)\n",
    "plt.savefig('plot1.png')"
   ]
  },
  {
   "cell_type": "markdown",
   "metadata": {},
   "source": [
    "# Przedłużenie 2"
   ]
  },
  {
   "cell_type": "code",
   "execution_count": 21,
   "metadata": {},
   "outputs": [],
   "source": [
    "s1 = struktury[0] + (struktury[1] - struktury[0])*((t1 - czasy_życia[0])/\n",
    "                                                   (czasy_życia[1] - czasy_życia[0]))\n",
    "s2 = struktury[1] + (struktury[2] - struktury[1])*((t2 - czasy_życia[1])/\n",
    "                                                   (czasy_życia[2] - czasy_życia[1]))\n",
    "s3 = struktury[2] + (struktury[3] - struktury[2])*((t3 - czasy_życia[2])/\n",
    "                                                   (czasy_życia[3] - czasy_życia[2]))\n",
    "s4 = struktury[3] + (struktury[4] - struktury[3])*((t4 - czasy_życia[3])/\n",
    "                                                   (czasy_życia[4] - czasy_życia[3]))\n",
    "s5 = struktury[4] + (struktury[5] - struktury[4])*((t5 - czasy_życia[4])/\n",
    "                                                   (czasy_życia[5] - czasy_życia[4]))\n",
    "s = [s1, s2, s3, s4, s5]"
   ]
  },
  {
   "cell_type": "code",
   "execution_count": 22,
   "metadata": {},
   "outputs": [
    {
     "data": {
      "image/png": "[encoded data removed]",
      "text/plain": [
       "<Figure size 432x288 with 1 Axes>"
      ]
     },
     "metadata": {
      "needs_background": "light"
     },
     "output_type": "display_data"
    }
   ],
   "source": [
    "plt.plot(t1,s1)\n",
    "plt.plot(t2,s2)\n",
    "plt.plot(t3,s3, color = 'red')\n",
    "plt.plot(t4,s4, color = 'black')\n",
    "plt.plot(t5,s5)\n",
    "plt.savefig('plot2.png')"
   ]
  },
  {
   "cell_type": "code",
   "execution_count": 23,
   "metadata": {},
   "outputs": [],
   "source": [
    "t10 = str(czasy_życia[0])\n",
    "t11 = str(czasy_życia[1])\n",
    "t12 = str(czasy_życia[2])\n",
    "t13 = str(czasy_życia[3])\n",
    "t14 = str(czasy_życia[4])\n",
    "t15 = str(czasy_życia[5])\n",
    "\n",
    "tt1 = t10 + ' - ' + t11\n",
    "tt2 = t11 + ' - ' + t12\n",
    "tt3 = t12 + ' - ' + t13\n",
    "tt4 = t13 + ' - ' + t14\n",
    "tt5 = t14 + ' - ' + t15\n",
    "tt = [tt1, tt2, tt3, tt4, tt5]"
   ]
  },
  {
   "cell_type": "code",
   "execution_count": 24,
   "metadata": {},
   "outputs": [],
   "source": [
    "przedłużenie_mean1 = []\n",
    "for i in range (0,5):\n",
    "    przedłużenie_mean1.append(np.mean(struks[i]))"
   ]
  },
  {
   "cell_type": "code",
   "execution_count": 25,
   "metadata": {},
   "outputs": [
    {
     "data": {
      "text/plain": [
       "[0.9795699313404349,\n",
       " 0.9543806214542235,\n",
       " 0.8134026392748627,\n",
       " 0.6847852288316443,\n",
       " 0.6568648496335716]"
      ]
     },
     "execution_count": 25,
     "metadata": {},
     "output_type": "execute_result"
    }
   ],
   "source": [
    "przedłużenie_mean1"
   ]
  },
  {
   "cell_type": "code",
   "execution_count": 26,
   "metadata": {},
   "outputs": [],
   "source": [
    "przedłużenie_mean2 = []\n",
    "for i in range (0,5):\n",
    "    przedłużenie_mean2.append(np.mean(s[i]))"
   ]
  },
  {
   "cell_type": "code",
   "execution_count": 27,
   "metadata": {},
   "outputs": [
    {
     "data": {
      "text/plain": [
       "[0.9797100794262139,\n",
       " 0.9543894299720034,\n",
       " 0.8204601903114909,\n",
       " 0.6847867440961778,\n",
       " 0.6572027613242967]"
      ]
     },
     "execution_count": 27,
     "metadata": {},
     "output_type": "execute_result"
    }
   ],
   "source": [
    "przedłużenie_mean2"
   ]
  },
  {
   "cell_type": "code",
   "execution_count": 28,
   "metadata": {},
   "outputs": [],
   "source": [
    "dane = {'Przedziały': tt, 'Przedłużenie 1': przedłużenie_mean1, 'Przedłużenie 2': przedłużenie_mean2}\n",
    "df = pd.DataFrame(dane)\n",
    "df.set_index('Przedziały', inplace = True)\n",
    "df1 = df.style.set_caption('Średnie wartości na przedziałach dla obydwu przedłużeń terminowych').set_table_styles([{\n",
    "    'selector': 'caption',\n",
    "    'props': [\n",
    "        ('color', 'black'),\n",
    "        ('font-size', '15px'),\n",
    "        ('font-style', 'italic'),\n",
    " \n",
    "        ('text-align', 'center')\n",
    "    ]\n",
    "    \n",
    "}])"
   ]
  },
  {
   "cell_type": "code",
   "execution_count": 29,
   "metadata": {},
   "outputs": [
    {
     "data": {
      "text/html": [
       "<style  type=\"text/css\" >\n",
       "    #T_17215460_9063_11ed_9806_3c58c2fcbf79 caption {\n",
       "          color: black;\n",
       "          font-size: 15px;\n",
       "          font-style: italic;\n",
       "          text-align: center;\n",
       "    }</style><table id=\"T_17215460_9063_11ed_9806_3c58c2fcbf79\" ><caption>Średnie wartości na przedziałach dla obydwu przedłużeń terminowych</caption><thead>    <tr>        <th class=\"blank level0\" ></th>        <th class=\"col_heading level0 col0\" >Przedłużenie 1</th>        <th class=\"col_heading level0 col1\" >Przedłużenie 2</th>    </tr>    <tr>        <th class=\"index_name level0\" >Przedziały</th>        <th class=\"blank\" ></th>        <th class=\"blank\" ></th>    </tr></thead><tbody>\n",
       "                <tr>\n",
       "                        <th id=\"T_17215460_9063_11ed_9806_3c58c2fcbf79level0_row0\" class=\"row_heading level0 row0\" >0 - 4.210958904109589</th>\n",
       "                        <td id=\"T_17215460_9063_11ed_9806_3c58c2fcbf79row0_col0\" class=\"data row0 col0\" >0.979570</td>\n",
       "                        <td id=\"T_17215460_9063_11ed_9806_3c58c2fcbf79row0_col1\" class=\"data row0 col1\" >0.979710</td>\n",
       "            </tr>\n",
       "            <tr>\n",
       "                        <th id=\"T_17215460_9063_11ed_9806_3c58c2fcbf79level0_row1\" class=\"row_heading level0 row1\" >4.210958904109589 - 5.238356164383561</th>\n",
       "                        <td id=\"T_17215460_9063_11ed_9806_3c58c2fcbf79row1_col0\" class=\"data row1 col0\" >0.954381</td>\n",
       "                        <td id=\"T_17215460_9063_11ed_9806_3c58c2fcbf79row1_col1\" class=\"data row1 col1\" >0.954389</td>\n",
       "            </tr>\n",
       "            <tr>\n",
       "                        <th id=\"T_17215460_9063_11ed_9806_3c58c2fcbf79level0_row2\" class=\"row_heading level0 row2\" >5.238356164383561 - 5.282191780821917</th>\n",
       "                        <td id=\"T_17215460_9063_11ed_9806_3c58c2fcbf79row2_col0\" class=\"data row2 col0\" >0.813403</td>\n",
       "                        <td id=\"T_17215460_9063_11ed_9806_3c58c2fcbf79row2_col1\" class=\"data row2 col1\" >0.820460</td>\n",
       "            </tr>\n",
       "            <tr>\n",
       "                        <th id=\"T_17215460_9063_11ed_9806_3c58c2fcbf79level0_row3\" class=\"row_heading level0 row3\" >5.282191780821917 - 5.402739726027397</th>\n",
       "                        <td id=\"T_17215460_9063_11ed_9806_3c58c2fcbf79row3_col0\" class=\"data row3 col0\" >0.684785</td>\n",
       "                        <td id=\"T_17215460_9063_11ed_9806_3c58c2fcbf79row3_col1\" class=\"data row3 col1\" >0.684787</td>\n",
       "            </tr>\n",
       "            <tr>\n",
       "                        <th id=\"T_17215460_9063_11ed_9806_3c58c2fcbf79level0_row4\" class=\"row_heading level0 row4\" >5.402739726027397 - 5.652054794520548</th>\n",
       "                        <td id=\"T_17215460_9063_11ed_9806_3c58c2fcbf79row4_col0\" class=\"data row4 col0\" >0.656865</td>\n",
       "                        <td id=\"T_17215460_9063_11ed_9806_3c58c2fcbf79row4_col1\" class=\"data row4 col1\" >0.657203</td>\n",
       "            </tr>\n",
       "    </tbody></table>"
      ],
      "text/plain": [
       "<pandas.io.formats.style.Styler at 0x13f1ec8>"
      ]
     },
     "execution_count": 29,
     "metadata": {},
     "output_type": "execute_result"
    }
   ],
   "source": [
    "df1"
   ]
  }
 ],
 "metadata": {
  "kernelspec": {
   "display_name": "Python 3",
   "language": "python",
   "name": "python3"
  },
  "language_info": {
   "codemirror_mode": {
    "name": "ipython",
    "version": 3
   },
   "file_extension": ".py",
   "mimetype": "text/x-python",
   "name": "python",
   "nbconvert_exporter": "python",
   "pygments_lexer": "ipython3",
   "version": "3.8.3"
  }
 },
 "nbformat": 4,
 "nbformat_minor": 4
}
